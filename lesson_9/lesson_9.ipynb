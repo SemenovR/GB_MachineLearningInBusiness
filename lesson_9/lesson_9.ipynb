{
 "cells": [
  {
   "cell_type": "markdown",
   "metadata": {},
   "source": [
    "## Урок 9. Кейс 2. Внедрение модели в продукцию"
   ]
  },
  {
   "cell_type": "markdown",
   "metadata": {},
   "source": [
    "Домашнее задание<br>\n",
    "Нужно реализовать rest api на базе flask (пример https://github.com/fimochka-sudo/gb_flask_hw_api)<br>\n",
    "\n",
    "По шагам:<br>\n",
    "1. выбрать себе датасет (который интересен или нравится больше всего), сделать pipeline (преобразования + модель), сохранить его на диск. Если не хочется пайплайн, то можно без него, но так вам же будет удобнее потом вызывать его из кода сервиса.<br>\n",
    "2. установить удобную для себя среду разработки (pycharm прекрасен - https://www.jetbrains.com/pycharm/)<br>\n",
    "3. научиться создавать там виртуальное окружение для python (в правом нижнем углу есть add interpreter)<br>\n",
    "4. для вашего проекта вам понадобится requirements.txt с пакетами. Можно за основу взять такой файл из проекта выше. Для его установки прям в pycharm можно открыть терминал и сделать pip install -r requirements.txt (находясь в корне проекта конечно же при этом)<br>\n",
    "5. завести себе аккаунт на guthub (если его еще нет). У самого github есть такой \"hello world\" по работе с ним - https://guides.github.com/activities/hello-world/<br>\n",
    "6. научиться запускать gunicorn (установить его конечно). Пример для проекта выше: gunicorn -w 5 -b 127.0.0.1:5000 run_server:app<br>\n",
    "7. итоговый проект должен содержать: 1) каталог models/ (здесь модель-пайплайн предобученная) 2) файл run_server.py (здесь основной код flask-приложения) 3) requirements.txt (список пакетов, которые у вас используются в проекте) 4) README.md (здесь какое-то описание, что вы делаете, что за данные и т.д)<br>\n",
    "8. (<b>Опционально</b>): front-end сервис какой-то, который умеет принимать от пользователя введеные данные и ходить в ваш api. На самом деле полезно больше вам, т.к если ваш проект будет далее развиваться (новые модели, интересные подходы), то это хороший пунктик к резюме и в принципе - строчка в портфолио)"
   ]
  },
  {
   "cell_type": "markdown",
   "metadata": {},
   "source": [
    "### Обучим модель данных"
   ]
  },
  {
   "cell_type": "code",
   "execution_count": 138,
   "metadata": {},
   "outputs": [],
   "source": [
    "%matplotlib inline\n",
    "\n",
    "import numpy as np\n",
    "import pandas as pd\n",
    "import matplotlib.pyplot as plt\n",
    "import seaborn as sns\n",
    "import dill\n",
    "import lightgbm as lgbm\n",
    "\n",
    "from sklearn.feature_extraction.text import TfidfVectorizer\n",
    "from sklearn.model_selection import GridSearchCV\n",
    "from sklearn.pipeline import FeatureUnion, Pipeline\n",
    "from sklearn.base import BaseEstimator, TransformerMixin\n",
    "from sklearn.model_selection import train_test_split\n",
    "from sklearn.metrics import accuracy_score, classification_report, roc_auc_score, roc_curve, RocCurveDisplay"
   ]
  },
  {
   "cell_type": "code",
   "execution_count": 139,
   "metadata": {},
   "outputs": [],
   "source": [
    "def data_report(algorithm, testing_x, testing_y):\n",
    "    predictions   = algorithm.predict(testing_x)\n",
    "    probabilities = algorithm.predict_proba(testing_x)\n",
    "    \n",
    "    print (\"\\n Classification report : \\n\", classification_report(testing_y, predictions))\n",
    "    print (\"Accuracy   Score : \", accuracy_score(testing_y, predictions))\n",
    "    \n",
    "    #roc_auc_score\n",
    "    model_roc_auc = roc_auc_score(testing_y, predictions) \n",
    "    print (\"Area under curve : \", model_roc_auc,\"\\n\")\n",
    "    fpr, tpr, thresholds = roc_curve(testing_y, probabilities[:,1])\n",
    "    RocCurveDisplay(fpr=fpr, tpr=tpr).plot()"
   ]
  },
  {
   "cell_type": "code",
   "execution_count": 140,
   "metadata": {
    "scrolled": false
   },
   "outputs": [
    {
     "data": {
      "text/html": [
       "<div>\n",
       "<style scoped>\n",
       "    .dataframe tbody tr th:only-of-type {\n",
       "        vertical-align: middle;\n",
       "    }\n",
       "\n",
       "    .dataframe tbody tr th {\n",
       "        vertical-align: top;\n",
       "    }\n",
       "\n",
       "    .dataframe thead th {\n",
       "        text-align: right;\n",
       "    }\n",
       "</style>\n",
       "<table border=\"1\" class=\"dataframe\">\n",
       "  <thead>\n",
       "    <tr style=\"text-align: right;\">\n",
       "      <th></th>\n",
       "      <th>ID</th>\n",
       "      <th>name</th>\n",
       "      <th>category</th>\n",
       "      <th>main_category</th>\n",
       "      <th>currency</th>\n",
       "      <th>deadline</th>\n",
       "      <th>goal</th>\n",
       "      <th>launched</th>\n",
       "      <th>pledged</th>\n",
       "      <th>state</th>\n",
       "      <th>backers</th>\n",
       "      <th>country</th>\n",
       "      <th>usd pledged</th>\n",
       "      <th>usd_pledged_real</th>\n",
       "      <th>usd_goal_real</th>\n",
       "    </tr>\n",
       "  </thead>\n",
       "  <tbody>\n",
       "    <tr>\n",
       "      <th>0</th>\n",
       "      <td>1000002330</td>\n",
       "      <td>The Songs of Adelaide &amp; Abullah</td>\n",
       "      <td>Poetry</td>\n",
       "      <td>Publishing</td>\n",
       "      <td>GBP</td>\n",
       "      <td>2015-10-09</td>\n",
       "      <td>1000.0</td>\n",
       "      <td>2015-08-11 12:12:28</td>\n",
       "      <td>0.0</td>\n",
       "      <td>failed</td>\n",
       "      <td>0</td>\n",
       "      <td>GB</td>\n",
       "      <td>0.0</td>\n",
       "      <td>0.0</td>\n",
       "      <td>1533.95</td>\n",
       "    </tr>\n",
       "    <tr>\n",
       "      <th>1</th>\n",
       "      <td>1000003930</td>\n",
       "      <td>Greeting From Earth: ZGAC Arts Capsule For ET</td>\n",
       "      <td>Narrative Film</td>\n",
       "      <td>Film &amp; Video</td>\n",
       "      <td>USD</td>\n",
       "      <td>2017-11-01</td>\n",
       "      <td>30000.0</td>\n",
       "      <td>2017-09-02 04:43:57</td>\n",
       "      <td>2421.0</td>\n",
       "      <td>failed</td>\n",
       "      <td>15</td>\n",
       "      <td>US</td>\n",
       "      <td>100.0</td>\n",
       "      <td>2421.0</td>\n",
       "      <td>30000.00</td>\n",
       "    </tr>\n",
       "    <tr>\n",
       "      <th>2</th>\n",
       "      <td>1000004038</td>\n",
       "      <td>Where is Hank?</td>\n",
       "      <td>Narrative Film</td>\n",
       "      <td>Film &amp; Video</td>\n",
       "      <td>USD</td>\n",
       "      <td>2013-02-26</td>\n",
       "      <td>45000.0</td>\n",
       "      <td>2013-01-12 00:20:50</td>\n",
       "      <td>220.0</td>\n",
       "      <td>failed</td>\n",
       "      <td>3</td>\n",
       "      <td>US</td>\n",
       "      <td>220.0</td>\n",
       "      <td>220.0</td>\n",
       "      <td>45000.00</td>\n",
       "    </tr>\n",
       "    <tr>\n",
       "      <th>3</th>\n",
       "      <td>1000007540</td>\n",
       "      <td>ToshiCapital Rekordz Needs Help to Complete Album</td>\n",
       "      <td>Music</td>\n",
       "      <td>Music</td>\n",
       "      <td>USD</td>\n",
       "      <td>2012-04-16</td>\n",
       "      <td>5000.0</td>\n",
       "      <td>2012-03-17 03:24:11</td>\n",
       "      <td>1.0</td>\n",
       "      <td>failed</td>\n",
       "      <td>1</td>\n",
       "      <td>US</td>\n",
       "      <td>1.0</td>\n",
       "      <td>1.0</td>\n",
       "      <td>5000.00</td>\n",
       "    </tr>\n",
       "    <tr>\n",
       "      <th>4</th>\n",
       "      <td>1000011046</td>\n",
       "      <td>Community Film Project: The Art of Neighborhoo...</td>\n",
       "      <td>Film &amp; Video</td>\n",
       "      <td>Film &amp; Video</td>\n",
       "      <td>USD</td>\n",
       "      <td>2015-08-29</td>\n",
       "      <td>19500.0</td>\n",
       "      <td>2015-07-04 08:35:03</td>\n",
       "      <td>1283.0</td>\n",
       "      <td>canceled</td>\n",
       "      <td>14</td>\n",
       "      <td>US</td>\n",
       "      <td>1283.0</td>\n",
       "      <td>1283.0</td>\n",
       "      <td>19500.00</td>\n",
       "    </tr>\n",
       "  </tbody>\n",
       "</table>\n",
       "</div>"
      ],
      "text/plain": [
       "           ID                                               name  \\\n",
       "0  1000002330                    The Songs of Adelaide & Abullah   \n",
       "1  1000003930      Greeting From Earth: ZGAC Arts Capsule For ET   \n",
       "2  1000004038                                     Where is Hank?   \n",
       "3  1000007540  ToshiCapital Rekordz Needs Help to Complete Album   \n",
       "4  1000011046  Community Film Project: The Art of Neighborhoo...   \n",
       "\n",
       "         category main_category currency    deadline     goal  \\\n",
       "0          Poetry    Publishing      GBP  2015-10-09   1000.0   \n",
       "1  Narrative Film  Film & Video      USD  2017-11-01  30000.0   \n",
       "2  Narrative Film  Film & Video      USD  2013-02-26  45000.0   \n",
       "3           Music         Music      USD  2012-04-16   5000.0   \n",
       "4    Film & Video  Film & Video      USD  2015-08-29  19500.0   \n",
       "\n",
       "              launched  pledged     state  backers country  usd pledged  \\\n",
       "0  2015-08-11 12:12:28      0.0    failed        0      GB          0.0   \n",
       "1  2017-09-02 04:43:57   2421.0    failed       15      US        100.0   \n",
       "2  2013-01-12 00:20:50    220.0    failed        3      US        220.0   \n",
       "3  2012-03-17 03:24:11      1.0    failed        1      US          1.0   \n",
       "4  2015-07-04 08:35:03   1283.0  canceled       14      US       1283.0   \n",
       "\n",
       "   usd_pledged_real  usd_goal_real  \n",
       "0               0.0        1533.95  \n",
       "1            2421.0       30000.00  \n",
       "2             220.0       45000.00  \n",
       "3               1.0        5000.00  \n",
       "4            1283.0       19500.00  "
      ]
     },
     "execution_count": 140,
     "metadata": {},
     "output_type": "execute_result"
    }
   ],
   "source": [
    "# https://www.kaggle.com/kemical/kickstarter-projects\n",
    "data = pd.read_csv(\"ks-projects-201801.csv\") \n",
    "data.head()"
   ]
  },
  {
   "cell_type": "code",
   "execution_count": 141,
   "metadata": {},
   "outputs": [],
   "source": [
    "# Оставляем только те данные, на которых можно учиться и предсказывать"
   ]
  },
  {
   "cell_type": "code",
   "execution_count": 142,
   "metadata": {},
   "outputs": [
    {
     "data": {
      "text/html": [
       "<div>\n",
       "<style scoped>\n",
       "    .dataframe tbody tr th:only-of-type {\n",
       "        vertical-align: middle;\n",
       "    }\n",
       "\n",
       "    .dataframe tbody tr th {\n",
       "        vertical-align: top;\n",
       "    }\n",
       "\n",
       "    .dataframe thead th {\n",
       "        text-align: right;\n",
       "    }\n",
       "</style>\n",
       "<table border=\"1\" class=\"dataframe\">\n",
       "  <thead>\n",
       "    <tr style=\"text-align: right;\">\n",
       "      <th></th>\n",
       "      <th>name</th>\n",
       "      <th>category</th>\n",
       "      <th>main_category</th>\n",
       "      <th>deadline</th>\n",
       "      <th>launched</th>\n",
       "      <th>state</th>\n",
       "      <th>country</th>\n",
       "      <th>usd_goal_real</th>\n",
       "    </tr>\n",
       "  </thead>\n",
       "  <tbody>\n",
       "    <tr>\n",
       "      <th>0</th>\n",
       "      <td>The Songs of Adelaide &amp; Abullah</td>\n",
       "      <td>Poetry</td>\n",
       "      <td>Publishing</td>\n",
       "      <td>2015-10-09</td>\n",
       "      <td>2015-08-11 12:12:28</td>\n",
       "      <td>failed</td>\n",
       "      <td>GB</td>\n",
       "      <td>1533.95</td>\n",
       "    </tr>\n",
       "    <tr>\n",
       "      <th>1</th>\n",
       "      <td>Greeting From Earth: ZGAC Arts Capsule For ET</td>\n",
       "      <td>Narrative Film</td>\n",
       "      <td>Film &amp; Video</td>\n",
       "      <td>2017-11-01</td>\n",
       "      <td>2017-09-02 04:43:57</td>\n",
       "      <td>failed</td>\n",
       "      <td>US</td>\n",
       "      <td>30000.00</td>\n",
       "    </tr>\n",
       "    <tr>\n",
       "      <th>2</th>\n",
       "      <td>Where is Hank?</td>\n",
       "      <td>Narrative Film</td>\n",
       "      <td>Film &amp; Video</td>\n",
       "      <td>2013-02-26</td>\n",
       "      <td>2013-01-12 00:20:50</td>\n",
       "      <td>failed</td>\n",
       "      <td>US</td>\n",
       "      <td>45000.00</td>\n",
       "    </tr>\n",
       "    <tr>\n",
       "      <th>3</th>\n",
       "      <td>ToshiCapital Rekordz Needs Help to Complete Album</td>\n",
       "      <td>Music</td>\n",
       "      <td>Music</td>\n",
       "      <td>2012-04-16</td>\n",
       "      <td>2012-03-17 03:24:11</td>\n",
       "      <td>failed</td>\n",
       "      <td>US</td>\n",
       "      <td>5000.00</td>\n",
       "    </tr>\n",
       "    <tr>\n",
       "      <th>4</th>\n",
       "      <td>Community Film Project: The Art of Neighborhoo...</td>\n",
       "      <td>Film &amp; Video</td>\n",
       "      <td>Film &amp; Video</td>\n",
       "      <td>2015-08-29</td>\n",
       "      <td>2015-07-04 08:35:03</td>\n",
       "      <td>canceled</td>\n",
       "      <td>US</td>\n",
       "      <td>19500.00</td>\n",
       "    </tr>\n",
       "  </tbody>\n",
       "</table>\n",
       "</div>"
      ],
      "text/plain": [
       "                                                name        category  \\\n",
       "0                    The Songs of Adelaide & Abullah          Poetry   \n",
       "1      Greeting From Earth: ZGAC Arts Capsule For ET  Narrative Film   \n",
       "2                                     Where is Hank?  Narrative Film   \n",
       "3  ToshiCapital Rekordz Needs Help to Complete Album           Music   \n",
       "4  Community Film Project: The Art of Neighborhoo...    Film & Video   \n",
       "\n",
       "  main_category    deadline             launched     state country  \\\n",
       "0    Publishing  2015-10-09  2015-08-11 12:12:28    failed      GB   \n",
       "1  Film & Video  2017-11-01  2017-09-02 04:43:57    failed      US   \n",
       "2  Film & Video  2013-02-26  2013-01-12 00:20:50    failed      US   \n",
       "3         Music  2012-04-16  2012-03-17 03:24:11    failed      US   \n",
       "4  Film & Video  2015-08-29  2015-07-04 08:35:03  canceled      US   \n",
       "\n",
       "   usd_goal_real  \n",
       "0        1533.95  \n",
       "1       30000.00  \n",
       "2       45000.00  \n",
       "3        5000.00  \n",
       "4       19500.00  "
      ]
     },
     "execution_count": 142,
     "metadata": {},
     "output_type": "execute_result"
    }
   ],
   "source": [
    "data.drop(columns=['ID', 'currency', 'goal', 'pledged', 'backers', 'usd pledged', 'usd_pledged_real'], inplace=True)\n",
    "data.head()"
   ]
  },
  {
   "cell_type": "code",
   "execution_count": 143,
   "metadata": {},
   "outputs": [],
   "source": [
    "target_name = 'state'\n",
    "feature_names = data.columns.drop(target_name).tolist()"
   ]
  },
  {
   "cell_type": "code",
   "execution_count": 144,
   "metadata": {},
   "outputs": [
    {
     "data": {
      "text/plain": [
       "378661"
      ]
     },
     "execution_count": 144,
     "metadata": {},
     "output_type": "execute_result"
    }
   ],
   "source": [
    "len(data)"
   ]
  },
  {
   "cell_type": "code",
   "execution_count": 145,
   "metadata": {},
   "outputs": [],
   "source": [
    "data = data[(data['state']=='failed') | (data['state']=='successful')]"
   ]
  },
  {
   "cell_type": "code",
   "execution_count": 146,
   "metadata": {},
   "outputs": [],
   "source": [
    "data['state'] = data['state'].replace({'failed': 0, 'successful': 1})"
   ]
  },
  {
   "cell_type": "code",
   "execution_count": 147,
   "metadata": {},
   "outputs": [],
   "source": [
    "data.dropna(inplace=True)"
   ]
  },
  {
   "cell_type": "code",
   "execution_count": 148,
   "metadata": {},
   "outputs": [
    {
     "data": {
      "text/plain": [
       "331672"
      ]
     },
     "execution_count": 148,
     "metadata": {},
     "output_type": "execute_result"
    }
   ],
   "source": [
    "len(data)"
   ]
  },
  {
   "cell_type": "code",
   "execution_count": 149,
   "metadata": {},
   "outputs": [],
   "source": [
    "# Делим на трейн и тест"
   ]
  },
  {
   "cell_type": "code",
   "execution_count": 150,
   "metadata": {},
   "outputs": [],
   "source": [
    "train_data, test_data = train_test_split(data, test_size=0.3, random_state=1)\n",
    "\n",
    "train_X = train_data[feature_names] \n",
    "train_Y = train_data[target_name]\n",
    "test_X = test_data[feature_names] \n",
    "test_Y = test_data[target_name]"
   ]
  },
  {
   "cell_type": "code",
   "execution_count": 151,
   "metadata": {},
   "outputs": [],
   "source": [
    "#save test\n",
    "#test_X.to_csv(\"X_test.csv\", index=None)\n",
    "#test_Y.to_csv(\"y_test.csv\", index=None)\n",
    "#save train\n",
    "#train_X.to_csv(\"X_train.csv\", index=None)\n",
    "#train_Y.to_csv(\"y_train.csv\", index=None)"
   ]
  },
  {
   "cell_type": "markdown",
   "metadata": {},
   "source": [
    "#### EDA"
   ]
  },
  {
   "cell_type": "code",
   "execution_count": 152,
   "metadata": {},
   "outputs": [
    {
     "name": "stdout",
     "output_type": "stream",
     "text": [
      "Rows: 232170\n",
      "Columns: 8\n",
      "\n",
      "Features:\n",
      " ['name', 'category', 'main_category', 'deadline', 'launched', 'state', 'country', 'usd_goal_real']\n",
      "\n",
      "Missing values: 0\n",
      "\n",
      "Unique values:\n",
      " name             231072\n",
      "category            159\n",
      "main_category        15\n",
      "deadline           3078\n",
      "launched         231980\n",
      "state                 2\n",
      "country              23\n",
      "usd_goal_real     35026\n",
      "dtype: int64\n"
     ]
    }
   ],
   "source": [
    "print (\"Rows:\", train_data.shape[0])\n",
    "print (\"Columns:\", train_data.shape[1])\n",
    "print (\"\\nFeatures:\\n\", train_data.columns.tolist())\n",
    "print (\"\\nMissing values:\", train_data.isnull().sum().values.sum())\n",
    "print (\"\\nUnique values:\\n\", train_data.nunique())"
   ]
  },
  {
   "cell_type": "code",
   "execution_count": 153,
   "metadata": {},
   "outputs": [
    {
     "name": "stdout",
     "output_type": "stream",
     "text": [
      "<class 'pandas.core.frame.DataFrame'>\n",
      "Int64Index: 232170 entries, 108275 to 146133\n",
      "Data columns (total 8 columns):\n",
      " #   Column         Non-Null Count   Dtype  \n",
      "---  ------         --------------   -----  \n",
      " 0   name           232170 non-null  object \n",
      " 1   category       232170 non-null  object \n",
      " 2   main_category  232170 non-null  object \n",
      " 3   deadline       232170 non-null  object \n",
      " 4   launched       232170 non-null  object \n",
      " 5   state          232170 non-null  int64  \n",
      " 6   country        232170 non-null  object \n",
      " 7   usd_goal_real  232170 non-null  float64\n",
      "dtypes: float64(1), int64(1), object(6)\n",
      "memory usage: 15.9+ MB\n"
     ]
    }
   ],
   "source": [
    "train_data.info()"
   ]
  },
  {
   "cell_type": "code",
   "execution_count": 154,
   "metadata": {},
   "outputs": [
    {
     "data": {
      "text/html": [
       "<div>\n",
       "<style scoped>\n",
       "    .dataframe tbody tr th:only-of-type {\n",
       "        vertical-align: middle;\n",
       "    }\n",
       "\n",
       "    .dataframe tbody tr th {\n",
       "        vertical-align: top;\n",
       "    }\n",
       "\n",
       "    .dataframe thead th {\n",
       "        text-align: right;\n",
       "    }\n",
       "</style>\n",
       "<table border=\"1\" class=\"dataframe\">\n",
       "  <thead>\n",
       "    <tr style=\"text-align: right;\">\n",
       "      <th></th>\n",
       "      <th>state</th>\n",
       "      <th>usd_goal_real</th>\n",
       "    </tr>\n",
       "  </thead>\n",
       "  <tbody>\n",
       "    <tr>\n",
       "      <th>count</th>\n",
       "      <td>232170.000000</td>\n",
       "      <td>2.321700e+05</td>\n",
       "    </tr>\n",
       "    <tr>\n",
       "      <th>mean</th>\n",
       "      <td>0.403808</td>\n",
       "      <td>4.058035e+04</td>\n",
       "    </tr>\n",
       "    <tr>\n",
       "      <th>std</th>\n",
       "      <td>0.490661</td>\n",
       "      <td>1.074746e+06</td>\n",
       "    </tr>\n",
       "    <tr>\n",
       "      <th>min</th>\n",
       "      <td>0.000000</td>\n",
       "      <td>1.500000e-01</td>\n",
       "    </tr>\n",
       "    <tr>\n",
       "      <th>25%</th>\n",
       "      <td>0.000000</td>\n",
       "      <td>2.000000e+03</td>\n",
       "    </tr>\n",
       "    <tr>\n",
       "      <th>50%</th>\n",
       "      <td>0.000000</td>\n",
       "      <td>5.000000e+03</td>\n",
       "    </tr>\n",
       "    <tr>\n",
       "      <th>75%</th>\n",
       "      <td>1.000000</td>\n",
       "      <td>1.500000e+04</td>\n",
       "    </tr>\n",
       "    <tr>\n",
       "      <th>max</th>\n",
       "      <td>1.000000</td>\n",
       "      <td>1.663614e+08</td>\n",
       "    </tr>\n",
       "  </tbody>\n",
       "</table>\n",
       "</div>"
      ],
      "text/plain": [
       "               state  usd_goal_real\n",
       "count  232170.000000   2.321700e+05\n",
       "mean        0.403808   4.058035e+04\n",
       "std         0.490661   1.074746e+06\n",
       "min         0.000000   1.500000e-01\n",
       "25%         0.000000   2.000000e+03\n",
       "50%         0.000000   5.000000e+03\n",
       "75%         1.000000   1.500000e+04\n",
       "max         1.000000   1.663614e+08"
      ]
     },
     "execution_count": 154,
     "metadata": {},
     "output_type": "execute_result"
    }
   ],
   "source": [
    "train_data.describe()"
   ]
  },
  {
   "cell_type": "code",
   "execution_count": 155,
   "metadata": {
    "scrolled": false
   },
   "outputs": [
    {
     "name": "stdout",
     "output_type": "stream",
     "text": [
      "name\n",
      "\n",
      "New EP/Music Development                                 9\n",
      "Reflections                                              8\n",
      "Debut Album                                              8\n",
      "Music Video                                              8\n",
      "Romeo & Juliet                                           6\n",
      "                                                        ..\n",
      "My Name is Ryan Maelhorn and I Need to Finish my Film    1\n",
      "Streetz Feature Film                                     1\n",
      "New equipment for Joy's World!                           1\n",
      "VLUL                                                     1\n",
      "Benson Bye                                               1\n",
      "Name: name, Length: 231072, dtype: int64\n",
      "****************************************************************************************************\n",
      "\n",
      "category\n",
      "\n",
      "Product Design     13099\n",
      "Documentary        10176\n",
      "Music               8857\n",
      "Tabletop Games      8181\n",
      "Shorts              8046\n",
      "                   ...  \n",
      "Residencies           45\n",
      "Letterpress           34\n",
      "Chiptune              23\n",
      "Literary Spaces       13\n",
      "Taxidermy              5\n",
      "Name: category, Length: 159, dtype: int64\n",
      "****************************************************************************************************\n",
      "\n",
      "main_category\n",
      "\n",
      "Film & Video    39744\n",
      "Music           32085\n",
      "Publishing      24764\n",
      "Games           19892\n",
      "Technology      18930\n",
      "Art             17910\n",
      "Design          17749\n",
      "Food            15392\n",
      "Fashion         13857\n",
      "Theater          7183\n",
      "Comics           6946\n",
      "Photography      6794\n",
      "Crafts           5501\n",
      "Journalism       2932\n",
      "Dance            2491\n",
      "Name: main_category, dtype: int64\n",
      "****************************************************************************************************\n",
      "\n",
      "deadline\n",
      "\n",
      "2014-08-08    420\n",
      "2014-08-10    342\n",
      "2014-08-07    329\n",
      "2015-05-01    295\n",
      "2015-04-01    278\n",
      "             ... \n",
      "2010-02-05      1\n",
      "2011-03-30      1\n",
      "2009-07-09      1\n",
      "2010-01-22      1\n",
      "2009-12-19      1\n",
      "Name: deadline, Length: 3078, dtype: int64\n",
      "****************************************************************************************************\n",
      "\n",
      "launched\n",
      "\n",
      "2015-12-17 21:41:43    2\n",
      "2014-07-18 02:38:13    2\n",
      "2015-06-23 19:02:59    2\n",
      "2015-03-17 21:51:09    2\n",
      "2015-07-06 17:05:33    2\n",
      "                      ..\n",
      "2014-06-10 21:05:05    1\n",
      "2017-11-02 00:42:20    1\n",
      "2014-02-10 17:03:41    1\n",
      "2012-11-28 03:00:24    1\n",
      "2010-10-07 20:11:03    1\n",
      "Name: launched, Length: 231980, dtype: int64\n",
      "****************************************************************************************************\n",
      "\n",
      "country\n",
      "\n",
      "US      182994\n",
      "GB       20624\n",
      "CA        8652\n",
      "AU        4661\n",
      "DE        2392\n",
      "FR        1767\n",
      "NL        1653\n",
      "IT        1628\n",
      "ES        1312\n",
      "SE        1045\n",
      "MX        1012\n",
      "NZ         879\n",
      "DK         663\n",
      "IE         487\n",
      "CH         477\n",
      "NO         391\n",
      "BE         350\n",
      "HK         343\n",
      "AT         333\n",
      "SG         315\n",
      "N,0\"       139\n",
      "LU          38\n",
      "JP          15\n",
      "Name: country, dtype: int64\n",
      "****************************************************************************************************\n",
      "\n"
     ]
    }
   ],
   "source": [
    "for cat_colname in train_data.select_dtypes(include='object').columns:\n",
    "    print(str(cat_colname) + '\\n\\n' + str(train_data[cat_colname].value_counts()) + '\\n' + '*' * 100 + '\\n')"
   ]
  },
  {
   "cell_type": "code",
   "execution_count": 156,
   "metadata": {},
   "outputs": [
    {
     "name": "stdout",
     "output_type": "stream",
     "text": [
      "name             0\n",
      "category         0\n",
      "main_category    0\n",
      "deadline         0\n",
      "launched         0\n",
      "state            0\n",
      "country          0\n",
      "usd_goal_real    0\n",
      "dtype: int64\n"
     ]
    }
   ],
   "source": [
    "print(len(train_data) - train_data.count())"
   ]
  },
  {
   "cell_type": "code",
   "execution_count": 157,
   "metadata": {},
   "outputs": [
    {
     "data": {
      "text/plain": [
       "0    138418\n",
       "1     93752\n",
       "Name: state, dtype: int64"
      ]
     },
     "execution_count": 157,
     "metadata": {},
     "output_type": "execute_result"
    }
   ],
   "source": [
    "train_data['state'].value_counts()"
   ]
  },
  {
   "cell_type": "code",
   "execution_count": 158,
   "metadata": {
    "scrolled": false
   },
   "outputs": [
    {
     "data": {
      "image/png": "[encoded data removed]",
      "text/plain": [
       "<Figure size 864x432 with 4 Axes>"
      ]
     },
     "metadata": {
      "needs_background": "light"
     },
     "output_type": "display_data"
    }
   ],
   "source": [
    "fig, axs = plt.subplots(2, 2, figsize = (12, 6))\n",
    "ax = axs.flatten()\n",
    "for i, c in enumerate(['category', 'main_category', 'state', 'country']):\n",
    "    ax[i].hist(train_data[c], bins=30, label=\"Data\")\n",
    "    ax[i].set_title(c)\n",
    "fig.tight_layout()"
   ]
  },
  {
   "cell_type": "code",
   "execution_count": 159,
   "metadata": {},
   "outputs": [
    {
     "data": {
      "text/plain": [
       "<seaborn.axisgrid.PairGrid at 0x7f60a00fe350>"
      ]
     },
     "execution_count": 159,
     "metadata": {},
     "output_type": "execute_result"
    },
    {
     "data": {
      "image/png": "[encoded data removed]",
      "text/plain": [
       "<Figure size 720x720 with 6 Axes>"
      ]
     },
     "metadata": {
      "needs_background": "light"
     },
     "output_type": "display_data"
    }
   ],
   "source": [
    "sns.pairplot(train_data, height=5)"
   ]
  },
  {
   "cell_type": "code",
   "execution_count": 160,
   "metadata": {},
   "outputs": [],
   "source": [
    "class ColumnSelector(BaseEstimator, TransformerMixin):\n",
    "    def __init__(self, key):\n",
    "        self.key = key\n",
    "\n",
    "    def fit(self, X, y=None):\n",
    "        return self\n",
    "\n",
    "    def transform(self, X):\n",
    "        return X.loc[:, self.key]\n",
    "\n",
    "class DateEncoder(BaseEstimator, TransformerMixin):\n",
    "    def __init__(self, key):\n",
    "        self.key = key\n",
    "        \n",
    "    def fit(self, X, y=None):\n",
    "        return self\n",
    "    \n",
    "    def transform(self, X):\n",
    "        dd = pd.to_datetime(X)\n",
    "        return pd.DataFrame(np.hstack((pd.DataFrame(dd.dt.month), pd.DataFrame(dd.dt.day))))\n",
    "    \n",
    "    def get_feature_names(self):\n",
    "        return ['base_' + self.key + '_month', 'base_' + self.key + '_day']\n",
    "\n",
    "class CalcPeriod(BaseEstimator, TransformerMixin):\n",
    "    def __init__(self, key):\n",
    "        self.key = key\n",
    "        \n",
    "    def fit(self, X, y=None):\n",
    "        return self\n",
    "    \n",
    "    def transform(self, X):\n",
    "        return pd.DataFrame((pd.to_datetime(X.iloc[:,1]) - pd.to_datetime(X.iloc[:,0])).dt.days)\n",
    "    \n",
    "    def get_feature_names(self):\n",
    "        return ['base_' + self.key]\n",
    "    \n",
    "class NumberSelector(BaseEstimator, TransformerMixin):\n",
    "    def __init__(self, key):\n",
    "        self.key = key\n",
    "\n",
    "    def fit(self, X, y=None):\n",
    "        return self\n",
    "\n",
    "    def transform(self, X):\n",
    "        return pd.DataFrame(X[self.key])\n",
    "    \n",
    "    def get_feature_names(self):\n",
    "        return ['base_' + self.key]\n",
    "    \n",
    "class ColumnCatEncoder(BaseEstimator, TransformerMixin):\n",
    "    def __init__(self, key):\n",
    "        self.key = key\n",
    "        self.columns = []\n",
    "        \n",
    "    def fit(self, X, y=None):\n",
    "        self.columns = [col for col in pd.get_dummies(X, prefix=self.key, drop_first=True).columns]\n",
    "        return self\n",
    "    \n",
    "    def transform(self, X):\n",
    "        dummies = pd.get_dummies(X, prefix=self.key)\n",
    "        dummies_columns = [col for col in dummies.columns]\n",
    "        for col_ in self.columns:\n",
    "            if col_ not in dummies_columns:\n",
    "                dummies[col_] = 0\n",
    "        return dummies[self.columns]\n",
    "    \n",
    "    def get_feature_names(self):\n",
    "        return self.columns"
   ]
  },
  {
   "cell_type": "code",
   "execution_count": 161,
   "metadata": {},
   "outputs": [],
   "source": [
    "name = Pipeline([\n",
    "    ('selector', ColumnSelector(key='name')),\n",
    "    ('result', TfidfVectorizer(max_df=0.90, min_df=10, strip_accents='ascii', max_features=5000)),\n",
    "])\n",
    "category = Pipeline([\n",
    "    ('selector', ColumnSelector(key='category')),\n",
    "    ('result', ColumnCatEncoder(key='category')),\n",
    "])\n",
    "main_category = Pipeline([\n",
    "    ('selector', ColumnSelector(key='main_category')),\n",
    "    ('result', ColumnCatEncoder(key='main_category')),\n",
    "])\n",
    "period = Pipeline([\n",
    "    ('selector', ColumnSelector(key=['launched', 'deadline'])),\n",
    "    ('result', CalcPeriod(key='period')),\n",
    "])\n",
    "country = Pipeline([\n",
    "    ('selector', ColumnSelector(key='country')),\n",
    "    ('result', ColumnCatEncoder(key='country')),\n",
    "])\n",
    "usd_goal_real = Pipeline([\n",
    "    ('result', NumberSelector(key='usd_goal_real')),\n",
    "])\n",
    "launched = Pipeline([\n",
    "    ('selector', ColumnSelector(key='launched')),\n",
    "    ('result', DateEncoder(key='launched')),\n",
    "])\n",
    "deadline = Pipeline([\n",
    "    ('selector', ColumnSelector(key='deadline')),\n",
    "    ('result', DateEncoder(key='deadline')),\n",
    "])\n",
    "\n",
    "feats = FeatureUnion(transformer_list=[\n",
    "    ('name', name),\n",
    "    ('category', category),\n",
    "    ('main_category', main_category),\n",
    "    ('period', period),\n",
    "    ('country', country),\n",
    "    ('usd_goal_real', usd_goal_real),\n",
    "    ('launched', launched),\n",
    "    ('deadline', deadline),\n",
    "])"
   ]
  },
  {
   "cell_type": "code",
   "execution_count": 162,
   "metadata": {
    "scrolled": false
   },
   "outputs": [
    {
     "data": {
      "text/html": [
       "<div>\n",
       "<style scoped>\n",
       "    .dataframe tbody tr th:only-of-type {\n",
       "        vertical-align: middle;\n",
       "    }\n",
       "\n",
       "    .dataframe tbody tr th {\n",
       "        vertical-align: top;\n",
       "    }\n",
       "\n",
       "    .dataframe thead th {\n",
       "        text-align: right;\n",
       "    }\n",
       "</style>\n",
       "<table border=\"1\" class=\"dataframe\">\n",
       "  <thead>\n",
       "    <tr style=\"text-align: right;\">\n",
       "      <th></th>\n",
       "      <th>000</th>\n",
       "      <th>01</th>\n",
       "      <th>10</th>\n",
       "      <th>100</th>\n",
       "      <th>1000</th>\n",
       "      <th>101</th>\n",
       "      <th>10th</th>\n",
       "      <th>11</th>\n",
       "      <th>12</th>\n",
       "      <th>13</th>\n",
       "      <th>...</th>\n",
       "      <th>country_NO</th>\n",
       "      <th>country_NZ</th>\n",
       "      <th>country_SE</th>\n",
       "      <th>country_SG</th>\n",
       "      <th>country_US</th>\n",
       "      <th>base_usd_goal_real</th>\n",
       "      <th>base_launched_month</th>\n",
       "      <th>base_launched_day</th>\n",
       "      <th>base_deadline_month</th>\n",
       "      <th>base_deadline_day</th>\n",
       "    </tr>\n",
       "  </thead>\n",
       "  <tbody>\n",
       "    <tr>\n",
       "      <th>0</th>\n",
       "      <td>0.0</td>\n",
       "      <td>0.0</td>\n",
       "      <td>0.0</td>\n",
       "      <td>0.0</td>\n",
       "      <td>0.0</td>\n",
       "      <td>0.0</td>\n",
       "      <td>0.0</td>\n",
       "      <td>0.0</td>\n",
       "      <td>0.0</td>\n",
       "      <td>0.0</td>\n",
       "      <td>...</td>\n",
       "      <td>0.0</td>\n",
       "      <td>0.0</td>\n",
       "      <td>0.0</td>\n",
       "      <td>0.0</td>\n",
       "      <td>1.0</td>\n",
       "      <td>2950.00</td>\n",
       "      <td>11.0</td>\n",
       "      <td>21.0</td>\n",
       "      <td>12.0</td>\n",
       "      <td>21.0</td>\n",
       "    </tr>\n",
       "    <tr>\n",
       "      <th>1</th>\n",
       "      <td>0.0</td>\n",
       "      <td>0.0</td>\n",
       "      <td>0.0</td>\n",
       "      <td>0.0</td>\n",
       "      <td>0.0</td>\n",
       "      <td>0.0</td>\n",
       "      <td>0.0</td>\n",
       "      <td>0.0</td>\n",
       "      <td>0.0</td>\n",
       "      <td>0.0</td>\n",
       "      <td>...</td>\n",
       "      <td>0.0</td>\n",
       "      <td>0.0</td>\n",
       "      <td>0.0</td>\n",
       "      <td>0.0</td>\n",
       "      <td>1.0</td>\n",
       "      <td>12000.00</td>\n",
       "      <td>2.0</td>\n",
       "      <td>23.0</td>\n",
       "      <td>3.0</td>\n",
       "      <td>25.0</td>\n",
       "    </tr>\n",
       "    <tr>\n",
       "      <th>2</th>\n",
       "      <td>0.0</td>\n",
       "      <td>0.0</td>\n",
       "      <td>0.0</td>\n",
       "      <td>0.0</td>\n",
       "      <td>0.0</td>\n",
       "      <td>0.0</td>\n",
       "      <td>0.0</td>\n",
       "      <td>0.0</td>\n",
       "      <td>0.0</td>\n",
       "      <td>0.0</td>\n",
       "      <td>...</td>\n",
       "      <td>0.0</td>\n",
       "      <td>0.0</td>\n",
       "      <td>0.0</td>\n",
       "      <td>0.0</td>\n",
       "      <td>1.0</td>\n",
       "      <td>18000.00</td>\n",
       "      <td>2.0</td>\n",
       "      <td>14.0</td>\n",
       "      <td>4.0</td>\n",
       "      <td>14.0</td>\n",
       "    </tr>\n",
       "    <tr>\n",
       "      <th>3</th>\n",
       "      <td>0.0</td>\n",
       "      <td>0.0</td>\n",
       "      <td>0.0</td>\n",
       "      <td>0.0</td>\n",
       "      <td>0.0</td>\n",
       "      <td>0.0</td>\n",
       "      <td>0.0</td>\n",
       "      <td>0.0</td>\n",
       "      <td>0.0</td>\n",
       "      <td>0.0</td>\n",
       "      <td>...</td>\n",
       "      <td>0.0</td>\n",
       "      <td>0.0</td>\n",
       "      <td>0.0</td>\n",
       "      <td>0.0</td>\n",
       "      <td>1.0</td>\n",
       "      <td>6200.00</td>\n",
       "      <td>8.0</td>\n",
       "      <td>15.0</td>\n",
       "      <td>9.0</td>\n",
       "      <td>17.0</td>\n",
       "    </tr>\n",
       "    <tr>\n",
       "      <th>4</th>\n",
       "      <td>0.0</td>\n",
       "      <td>0.0</td>\n",
       "      <td>0.0</td>\n",
       "      <td>0.0</td>\n",
       "      <td>0.0</td>\n",
       "      <td>0.0</td>\n",
       "      <td>0.0</td>\n",
       "      <td>0.0</td>\n",
       "      <td>0.0</td>\n",
       "      <td>0.0</td>\n",
       "      <td>...</td>\n",
       "      <td>0.0</td>\n",
       "      <td>0.0</td>\n",
       "      <td>0.0</td>\n",
       "      <td>0.0</td>\n",
       "      <td>0.0</td>\n",
       "      <td>8930.96</td>\n",
       "      <td>9.0</td>\n",
       "      <td>4.0</td>\n",
       "      <td>10.0</td>\n",
       "      <td>6.0</td>\n",
       "    </tr>\n",
       "    <tr>\n",
       "      <th>...</th>\n",
       "      <td>...</td>\n",
       "      <td>...</td>\n",
       "      <td>...</td>\n",
       "      <td>...</td>\n",
       "      <td>...</td>\n",
       "      <td>...</td>\n",
       "      <td>...</td>\n",
       "      <td>...</td>\n",
       "      <td>...</td>\n",
       "      <td>...</td>\n",
       "      <td>...</td>\n",
       "      <td>...</td>\n",
       "      <td>...</td>\n",
       "      <td>...</td>\n",
       "      <td>...</td>\n",
       "      <td>...</td>\n",
       "      <td>...</td>\n",
       "      <td>...</td>\n",
       "      <td>...</td>\n",
       "      <td>...</td>\n",
       "      <td>...</td>\n",
       "    </tr>\n",
       "    <tr>\n",
       "      <th>232165</th>\n",
       "      <td>0.0</td>\n",
       "      <td>0.0</td>\n",
       "      <td>0.0</td>\n",
       "      <td>0.0</td>\n",
       "      <td>0.0</td>\n",
       "      <td>0.0</td>\n",
       "      <td>0.0</td>\n",
       "      <td>0.0</td>\n",
       "      <td>0.0</td>\n",
       "      <td>0.0</td>\n",
       "      <td>...</td>\n",
       "      <td>0.0</td>\n",
       "      <td>0.0</td>\n",
       "      <td>0.0</td>\n",
       "      <td>0.0</td>\n",
       "      <td>1.0</td>\n",
       "      <td>7000.00</td>\n",
       "      <td>5.0</td>\n",
       "      <td>10.0</td>\n",
       "      <td>6.0</td>\n",
       "      <td>12.0</td>\n",
       "    </tr>\n",
       "    <tr>\n",
       "      <th>232166</th>\n",
       "      <td>0.0</td>\n",
       "      <td>0.0</td>\n",
       "      <td>0.0</td>\n",
       "      <td>0.0</td>\n",
       "      <td>0.0</td>\n",
       "      <td>0.0</td>\n",
       "      <td>0.0</td>\n",
       "      <td>0.0</td>\n",
       "      <td>0.0</td>\n",
       "      <td>0.0</td>\n",
       "      <td>...</td>\n",
       "      <td>0.0</td>\n",
       "      <td>0.0</td>\n",
       "      <td>0.0</td>\n",
       "      <td>0.0</td>\n",
       "      <td>1.0</td>\n",
       "      <td>1000.00</td>\n",
       "      <td>5.0</td>\n",
       "      <td>24.0</td>\n",
       "      <td>7.0</td>\n",
       "      <td>23.0</td>\n",
       "    </tr>\n",
       "    <tr>\n",
       "      <th>232167</th>\n",
       "      <td>0.0</td>\n",
       "      <td>0.0</td>\n",
       "      <td>0.0</td>\n",
       "      <td>0.0</td>\n",
       "      <td>0.0</td>\n",
       "      <td>0.0</td>\n",
       "      <td>0.0</td>\n",
       "      <td>0.0</td>\n",
       "      <td>0.0</td>\n",
       "      <td>0.0</td>\n",
       "      <td>...</td>\n",
       "      <td>0.0</td>\n",
       "      <td>0.0</td>\n",
       "      <td>0.0</td>\n",
       "      <td>0.0</td>\n",
       "      <td>1.0</td>\n",
       "      <td>75000.00</td>\n",
       "      <td>6.0</td>\n",
       "      <td>7.0</td>\n",
       "      <td>8.0</td>\n",
       "      <td>6.0</td>\n",
       "    </tr>\n",
       "    <tr>\n",
       "      <th>232168</th>\n",
       "      <td>0.0</td>\n",
       "      <td>0.0</td>\n",
       "      <td>0.0</td>\n",
       "      <td>0.0</td>\n",
       "      <td>0.0</td>\n",
       "      <td>0.0</td>\n",
       "      <td>0.0</td>\n",
       "      <td>0.0</td>\n",
       "      <td>0.0</td>\n",
       "      <td>0.0</td>\n",
       "      <td>...</td>\n",
       "      <td>0.0</td>\n",
       "      <td>0.0</td>\n",
       "      <td>0.0</td>\n",
       "      <td>0.0</td>\n",
       "      <td>1.0</td>\n",
       "      <td>9000.00</td>\n",
       "      <td>7.0</td>\n",
       "      <td>27.0</td>\n",
       "      <td>8.0</td>\n",
       "      <td>26.0</td>\n",
       "    </tr>\n",
       "    <tr>\n",
       "      <th>232169</th>\n",
       "      <td>0.0</td>\n",
       "      <td>0.0</td>\n",
       "      <td>0.0</td>\n",
       "      <td>0.0</td>\n",
       "      <td>0.0</td>\n",
       "      <td>0.0</td>\n",
       "      <td>0.0</td>\n",
       "      <td>0.0</td>\n",
       "      <td>0.0</td>\n",
       "      <td>0.0</td>\n",
       "      <td>...</td>\n",
       "      <td>0.0</td>\n",
       "      <td>0.0</td>\n",
       "      <td>0.0</td>\n",
       "      <td>0.0</td>\n",
       "      <td>0.0</td>\n",
       "      <td>33278.98</td>\n",
       "      <td>9.0</td>\n",
       "      <td>22.0</td>\n",
       "      <td>11.0</td>\n",
       "      <td>1.0</td>\n",
       "    </tr>\n",
       "  </tbody>\n",
       "</table>\n",
       "<p>232170 rows × 5200 columns</p>\n",
       "</div>"
      ],
      "text/plain": [
       "        000   01   10  100  1000  101  10th   11   12   13  ...  country_NO  \\\n",
       "0       0.0  0.0  0.0  0.0   0.0  0.0   0.0  0.0  0.0  0.0  ...         0.0   \n",
       "1       0.0  0.0  0.0  0.0   0.0  0.0   0.0  0.0  0.0  0.0  ...         0.0   \n",
       "2       0.0  0.0  0.0  0.0   0.0  0.0   0.0  0.0  0.0  0.0  ...         0.0   \n",
       "3       0.0  0.0  0.0  0.0   0.0  0.0   0.0  0.0  0.0  0.0  ...         0.0   \n",
       "4       0.0  0.0  0.0  0.0   0.0  0.0   0.0  0.0  0.0  0.0  ...         0.0   \n",
       "...     ...  ...  ...  ...   ...  ...   ...  ...  ...  ...  ...         ...   \n",
       "232165  0.0  0.0  0.0  0.0   0.0  0.0   0.0  0.0  0.0  0.0  ...         0.0   \n",
       "232166  0.0  0.0  0.0  0.0   0.0  0.0   0.0  0.0  0.0  0.0  ...         0.0   \n",
       "232167  0.0  0.0  0.0  0.0   0.0  0.0   0.0  0.0  0.0  0.0  ...         0.0   \n",
       "232168  0.0  0.0  0.0  0.0   0.0  0.0   0.0  0.0  0.0  0.0  ...         0.0   \n",
       "232169  0.0  0.0  0.0  0.0   0.0  0.0   0.0  0.0  0.0  0.0  ...         0.0   \n",
       "\n",
       "        country_NZ  country_SE  country_SG  country_US  base_usd_goal_real  \\\n",
       "0              0.0         0.0         0.0         1.0             2950.00   \n",
       "1              0.0         0.0         0.0         1.0            12000.00   \n",
       "2              0.0         0.0         0.0         1.0            18000.00   \n",
       "3              0.0         0.0         0.0         1.0             6200.00   \n",
       "4              0.0         0.0         0.0         0.0             8930.96   \n",
       "...            ...         ...         ...         ...                 ...   \n",
       "232165         0.0         0.0         0.0         1.0             7000.00   \n",
       "232166         0.0         0.0         0.0         1.0             1000.00   \n",
       "232167         0.0         0.0         0.0         1.0            75000.00   \n",
       "232168         0.0         0.0         0.0         1.0             9000.00   \n",
       "232169         0.0         0.0         0.0         0.0            33278.98   \n",
       "\n",
       "        base_launched_month  base_launched_day  base_deadline_month  \\\n",
       "0                      11.0               21.0                 12.0   \n",
       "1                       2.0               23.0                  3.0   \n",
       "2                       2.0               14.0                  4.0   \n",
       "3                       8.0               15.0                  9.0   \n",
       "4                       9.0                4.0                 10.0   \n",
       "...                     ...                ...                  ...   \n",
       "232165                  5.0               10.0                  6.0   \n",
       "232166                  5.0               24.0                  7.0   \n",
       "232167                  6.0                7.0                  8.0   \n",
       "232168                  7.0               27.0                  8.0   \n",
       "232169                  9.0               22.0                 11.0   \n",
       "\n",
       "        base_deadline_day  \n",
       "0                    21.0  \n",
       "1                    25.0  \n",
       "2                    14.0  \n",
       "3                    17.0  \n",
       "4                     6.0  \n",
       "...                   ...  \n",
       "232165               12.0  \n",
       "232166               23.0  \n",
       "232167                6.0  \n",
       "232168               26.0  \n",
       "232169                1.0  \n",
       "\n",
       "[232170 rows x 5200 columns]"
      ]
     },
     "execution_count": 162,
     "metadata": {},
     "output_type": "execute_result"
    }
   ],
   "source": [
    "ft = feats.fit_transform(train_X)\n",
    "\n",
    "# Новый список фичей\n",
    "new_features = []\n",
    "for i in feats.transformer_list:\n",
    "    new_features = np.hstack((new_features, i[1].named_steps['result'].get_feature_names()))\n",
    "\n",
    "new_train_X = pd.DataFrame.sparse.from_spmatrix(ft, columns=new_features)\n",
    "#new_train_X = pd.DataFrame(ft, columns=new_features)\n",
    "new_train_X"
   ]
  },
  {
   "cell_type": "code",
   "execution_count": 163,
   "metadata": {},
   "outputs": [],
   "source": [
    "# Формируем список категориальных признаков\n",
    "cat_features = new_features.tolist()\n",
    "for i in ['base_period', 'base_usd_goal_real', 'base_launched_month', 'base_launched_day', \n",
    "          'base_deadline_month', 'base_deadline_day']:\n",
    "    cat_features.remove(i)"
   ]
  },
  {
   "cell_type": "markdown",
   "metadata": {},
   "source": [
    "#### Обучение модели"
   ]
  },
  {
   "cell_type": "code",
   "execution_count": 164,
   "metadata": {},
   "outputs": [],
   "source": [
    "pipeline = Pipeline([\n",
    "    ('features', feats),\n",
    "    ('classifier', lgbm.LGBMClassifier(random_state=1, class_weight='balanced')), #, class_weight={0: 1, 1: 1.5})),\n",
    "])"
   ]
  },
  {
   "cell_type": "code",
   "execution_count": 165,
   "metadata": {},
   "outputs": [
    {
     "name": "stdout",
     "output_type": "stream",
     "text": [
      "CPU times: user 3min 36s, sys: 2.19 s, total: 3min 38s\n",
      "Wall time: 1min 4s\n"
     ]
    },
    {
     "data": {
      "text/plain": [
       "GridSearchCV(cv=3,\n",
       "             estimator=Pipeline(steps=[('features',\n",
       "                                        FeatureUnion(transformer_list=[('name',\n",
       "                                                                        Pipeline(steps=[('selector',\n",
       "                                                                                         ColumnSelector(key='name')),\n",
       "                                                                                        ('result',\n",
       "                                                                                         TfidfVectorizer(max_df=0.9,\n",
       "                                                                                                         max_features=5000,\n",
       "                                                                                                         min_df=10,\n",
       "                                                                                                         strip_accents='ascii'))])),\n",
       "                                                                       ('category',\n",
       "                                                                        Pipeline(steps=[('selector',\n",
       "                                                                                         ColumnSelector(key='category')),\n",
       "                                                                                        ('result',\n",
       "                                                                                         ColumnCatEncoder(key='cat...\n",
       "                                                                                        ('result',\n",
       "                                                                                         DateEncoder(key='launched'))])),\n",
       "                                                                       ('deadline',\n",
       "                                                                        Pipeline(steps=[('selector',\n",
       "                                                                                         ColumnSelector(key='deadline')),\n",
       "                                                                                        ('result',\n",
       "                                                                                         DateEncoder(key='deadline'))]))])),\n",
       "                                       ('classifier',\n",
       "                                        LGBMClassifier(class_weight='balanced',\n",
       "                                                       random_state=1))]),\n",
       "             n_jobs=-1,\n",
       "             param_grid={'classifier__max_depth': [20],\n",
       "                         'classifier__n_estimators': [500],\n",
       "                         'classifier__num_leaves': [30]},\n",
       "             scoring='f1')"
      ]
     },
     "execution_count": 165,
     "metadata": {},
     "output_type": "execute_result"
    }
   ],
   "source": [
    "%%time\n",
    "\n",
    "#hyperparameters = { 'classifier__max_depth': [3, 5, 7],\n",
    "#                    'classifier__n_estimators': [50, 100, 200],\n",
    "#                    'classifier__num_leaves': [5, 20, 50]\n",
    "#                  }\n",
    "#hyperparameters = { 'classifier__max_depth': [11, 15, 20],\n",
    "#                    'classifier__n_estimators': [400, 500, 600],\n",
    "#                    'classifier__num_leaves': [10, 20, 30, 50]\n",
    "#                  }\n",
    "hyperparameters = { 'classifier__max_depth': [20],\n",
    "                    'classifier__n_estimators': [500],\n",
    "                    'classifier__num_leaves': [30]\n",
    "                  }\n",
    "gs = GridSearchCV(pipeline, hyperparameters, scoring='f1', cv=3, n_jobs=-1)\n",
    "gs.fit(train_X, train_Y)"
   ]
  },
  {
   "cell_type": "code",
   "execution_count": 166,
   "metadata": {},
   "outputs": [
    {
     "data": {
      "text/plain": [
       "{'classifier__max_depth': 20,\n",
       " 'classifier__n_estimators': 500,\n",
       " 'classifier__num_leaves': 30}"
      ]
     },
     "execution_count": 166,
     "metadata": {},
     "output_type": "execute_result"
    }
   ],
   "source": [
    "gs.best_params_"
   ]
  },
  {
   "cell_type": "code",
   "execution_count": 174,
   "metadata": {
    "scrolled": false
   },
   "outputs": [
    {
     "name": "stdout",
     "output_type": "stream",
     "text": [
      "\n",
      " Classification report : \n",
      "               precision    recall  f1-score   support\n",
      "\n",
      "           0       0.80      0.71      0.76    138418\n",
      "           1       0.64      0.74      0.69     93752\n",
      "\n",
      "    accuracy                           0.73    232170\n",
      "   macro avg       0.72      0.73      0.72    232170\n",
      "weighted avg       0.74      0.73      0.73    232170\n",
      "\n",
      "Accuracy   Score :  0.725106602920274\n",
      "Area under curve :  0.7282401597408537 \n",
      "\n"
     ]
    },
    {
     "data": {
      "image/png": "[encoded data removed]",
      "text/plain": [
       "<Figure size 432x288 with 1 Axes>"
      ]
     },
     "metadata": {
      "needs_background": "light"
     },
     "output_type": "display_data"
    }
   ],
   "source": [
    "data_report(gs.best_estimator_, train_X, train_Y)"
   ]
  },
  {
   "cell_type": "code",
   "execution_count": 175,
   "metadata": {},
   "outputs": [
    {
     "name": "stdout",
     "output_type": "stream",
     "text": [
      "\n",
      " Classification report : \n",
      "               precision    recall  f1-score   support\n",
      "\n",
      "           0       0.77      0.69      0.73     59298\n",
      "           1       0.60      0.70      0.65     40204\n",
      "\n",
      "    accuracy                           0.69     99502\n",
      "   macro avg       0.69      0.69      0.69     99502\n",
      "weighted avg       0.70      0.69      0.70     99502\n",
      "\n",
      "Accuracy   Score :  0.6934332978231593\n",
      "Area under curve :  0.6949558721900144 \n",
      "\n"
     ]
    },
    {
     "data": {
      "image/png": "[encoded data removed]",
      "text/plain": [
       "<Figure size 432x288 with 1 Axes>"
      ]
     },
     "metadata": {
      "needs_background": "light"
     },
     "output_type": "display_data"
    }
   ],
   "source": [
    "data_report(gs.best_estimator_, test_X, test_Y)"
   ]
  },
  {
   "cell_type": "code",
   "execution_count": 168,
   "metadata": {
    "scrolled": false
   },
   "outputs": [
    {
     "name": "stdout",
     "output_type": "stream",
     "text": [
      "base_usd_goal_real = 1041\n",
      "base_period = 587\n",
      "base_deadline_day = 342\n",
      "base_launched_day = 321\n",
      "base_launched_month = 258\n",
      "base_deadline_month = 231\n",
      "the = 224\n",
      "country_US = 81\n",
      "category_Tabletop Games = 76\n",
      "main_category_Film & Video = 71\n",
      "for = 69\n",
      "of = 66\n",
      "and = 47\n",
      "main_category_Music = 47\n",
      "to = 44\n",
      "in = 44\n",
      "category_Apps = 44\n",
      "main_category_Technology = 44\n",
      "main_category_Food = 43\n"
     ]
    }
   ],
   "source": [
    "# Посмотрим на первые 20 важных признаков\n",
    "ind = np.argsort(gs.best_estimator_.steps[1][1].feature_importances_)[:-20:-1]\n",
    "for feat, importance in zip(new_features[ind], gs.best_estimator_.steps[1][1].feature_importances_[ind]):\n",
    "    print(feat, '=', importance)"
   ]
  },
  {
   "cell_type": "code",
   "execution_count": 169,
   "metadata": {},
   "outputs": [],
   "source": [
    "# Всё логично. Самые важные признаки - целевая сумма и срок."
   ]
  },
  {
   "cell_type": "code",
   "execution_count": 170,
   "metadata": {},
   "outputs": [
    {
     "name": "stdout",
     "output_type": "stream",
     "text": [
      "CPU times: user 4min 18s, sys: 1.31 s, total: 4min 19s\n",
      "Wall time: 18.8 s\n"
     ]
    },
    {
     "data": {
      "text/plain": [
       "Pipeline(steps=[('features',\n",
       "                 FeatureUnion(transformer_list=[('name',\n",
       "                                                 Pipeline(steps=[('selector',\n",
       "                                                                  ColumnSelector(key='name')),\n",
       "                                                                 ('result',\n",
       "                                                                  TfidfVectorizer(max_df=0.9,\n",
       "                                                                                  max_features=5000,\n",
       "                                                                                  min_df=10,\n",
       "                                                                                  strip_accents='ascii'))])),\n",
       "                                                ('category',\n",
       "                                                 Pipeline(steps=[('selector',\n",
       "                                                                  ColumnSelector(key='category')),\n",
       "                                                                 ('result',\n",
       "                                                                  ColumnCatEncoder(key='category'))])),\n",
       "                                                ('main_category'...\n",
       "                                                                  NumberSelector(key='usd_goal_real'))])),\n",
       "                                                ('launched',\n",
       "                                                 Pipeline(steps=[('selector',\n",
       "                                                                  ColumnSelector(key='launched')),\n",
       "                                                                 ('result',\n",
       "                                                                  DateEncoder(key='launched'))])),\n",
       "                                                ('deadline',\n",
       "                                                 Pipeline(steps=[('selector',\n",
       "                                                                  ColumnSelector(key='deadline')),\n",
       "                                                                 ('result',\n",
       "                                                                  DateEncoder(key='deadline'))]))])),\n",
       "                ('classifier',\n",
       "                 LGBMClassifier(class_weight='balanced', max_depth=20,\n",
       "                                n_estimators=500, num_leaves=30,\n",
       "                                random_state=1))])"
      ]
     },
     "execution_count": 170,
     "metadata": {},
     "output_type": "execute_result"
    }
   ],
   "source": [
    "%%time\n",
    "# А теперь финальную модель обучим на всей выборке\n",
    "pipeline = Pipeline([\n",
    "    ('features', feats),\n",
    "    ('classifier', lgbm.LGBMClassifier(random_state=1, class_weight='balanced', max_depth=20, n_estimators=500, num_leaves=30))\n",
    "])\n",
    "    \n",
    "pipeline.fit(data.drop(columns=[target_name]), data[target_name])"
   ]
  },
  {
   "cell_type": "code",
   "execution_count": 171,
   "metadata": {},
   "outputs": [
    {
     "name": "stdout",
     "output_type": "stream",
     "text": [
      "\n",
      " Classification report : \n",
      "               precision    recall  f1-score   support\n",
      "\n",
      "           0       0.80      0.70      0.75    197716\n",
      "           1       0.63      0.73      0.68    133956\n",
      "\n",
      "    accuracy                           0.72    331672\n",
      "   macro avg       0.71      0.72      0.71    331672\n",
      "weighted avg       0.73      0.72      0.72    331672\n",
      "\n",
      "Accuracy   Score :  0.7167321932511638\n",
      "Area under curve :  0.7196131296004632 \n",
      "\n"
     ]
    },
    {
     "data": {
      "image/png": "[encoded data removed]",
      "text/plain": [
       "<Figure size 432x288 with 1 Axes>"
      ]
     },
     "metadata": {
      "needs_background": "light"
     },
     "output_type": "display_data"
    }
   ],
   "source": [
    "data_report(pipeline, data.drop(columns=[target_name]), data[target_name])"
   ]
  },
  {
   "cell_type": "code",
   "execution_count": 172,
   "metadata": {},
   "outputs": [],
   "source": [
    "with open(\"pipeline.dill\", \"wb\") as f:\n",
    "    dill.dump(pipeline, f)"
   ]
  },
  {
   "cell_type": "code",
   "execution_count": 173,
   "metadata": {},
   "outputs": [],
   "source": [
    "# Справочники для фронта\n",
    "pd.DataFrame(sorted(data['main_category'].value_counts(dropna=True).index), \n",
    "             columns=['main_category']).to_csv(\"main_category.csv\", index=None)\n",
    "pd.DataFrame(sorted(data['category'].value_counts(dropna=True).index), \n",
    "             columns=['category']).to_csv(\"category.csv\", index=None)\n",
    "pd.DataFrame(sorted(data['country'].value_counts(dropna=True).index), \n",
    "             columns=['country']).to_csv(\"country.csv\", index=None)"
   ]
  },
  {
   "cell_type": "code",
   "execution_count": null,
   "metadata": {},
   "outputs": [],
   "source": []
  }
 ],
 "metadata": {
  "kernelspec": {
   "display_name": "Python 3",
   "language": "python",
   "name": "python3"
  },
  "language_info": {
   "codemirror_mode": {
    "name": "ipython",
    "version": 3
   },
   "file_extension": ".py",
   "mimetype": "text/x-python",
   "name": "python",
   "nbconvert_exporter": "python",
   "pygments_lexer": "ipython3",
   "version": "3.7.7"
  }
 },
 "nbformat": 4,
 "nbformat_minor": 4
}
